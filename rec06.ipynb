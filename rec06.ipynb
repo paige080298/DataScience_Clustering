{
 "cells": [
  {
   "cell_type": "markdown",
   "metadata": {},
   "source": [
    "# CS 1656 – Introduction to Data Science (Fall 2019)\n",
    "\n",
    "## Instructor: Alexandros Labrinidis / Teaching Assistant: Xiaoting Li\n",
    "\n",
    "### Additional Credits:  Tahereh Arabghalizi, E. Karageorgos, P. Pham, A. Shein, Z. Agha\n",
    "\n",
    "## Recitation 6: Clustering\n",
    "---\n",
    "In this recitation you will be learning clustering along with a little bit more on dataframes and the basics of numpy arrays. Packages you will need are,\n",
    "* numpy\n",
    "* pandas\n",
    "* sklearn\n",
    "* matplotlib\n",
    "\n",
    "As always, the first step is to import the packages above. "
   ]
  },
  {
   "cell_type": "code",
   "execution_count": null,
   "metadata": {},
   "outputs": [],
   "source": [
    "import numpy as np\n",
    "import pandas as pd\n",
    "from sklearn import cluster\n",
    "import matplotlib.pyplot as plt\n",
    "\n",
    "# To show plots inline \n",
    "%matplotlib inline"
   ]
  },
  {
   "cell_type": "markdown",
   "metadata": {},
   "source": [
    "## Dataframes, Groupby & Numpy Arrays"
   ]
  },
  {
   "cell_type": "markdown",
   "metadata": {},
   "source": [
    "We will start by reading our input file into a dataframe:"
   ]
  },
  {
   "cell_type": "code",
   "execution_count": null,
   "metadata": {},
   "outputs": [],
   "source": [
    "df = pd.read_csv('http://data.cs1656.org/crime_data.csv')\n",
    "df.head()"
   ]
  },
  {
   "cell_type": "markdown",
   "metadata": {},
   "source": [
    "Next we will group our data by the cluster label and compute the mean of each cluster across all columns as shown below. This will be used later to compare the output of our kmeans clustering."
   ]
  },
  {
   "cell_type": "code",
   "execution_count": null,
   "metadata": {},
   "outputs": [],
   "source": [
    "df_group = df.groupby(['CrimeCluster'])\n",
    "df_group.mean()"
   ]
  },
  {
   "cell_type": "markdown",
   "metadata": {},
   "source": [
    "## Kmeans Clustering\n",
    "Kmeans is an unsupervised clustering algorithm, useful for big data analysis, as it allows compressing the data into clusters based on their similarity. The general idea of the algorithm is to start with a random initialization of cluster centers and then assign each data sample to the nearest cluster by measuring its distance to all cluster centers. The process is repeated iteratively.\n",
    "\n",
    "We will begin by intializing our object for kmeans. The main parameter of kmeans clustering algorithm is the number of clusters to form, given by parameter `n_clusters` in the function below. Other paramters include `init` which specifies the method for initialization of cluster centroids and `random_state` which is a fixed seed used by the random number generator. Fixing the random number generator seed allows replicating results with repeated runs, otherwise repeated run could be initialzed with different random seeds giving different outputs. "
   ]
  },
  {
   "cell_type": "code",
   "execution_count": null,
   "metadata": {},
   "outputs": [],
   "source": [
    "k_means = cluster.KMeans(n_clusters=4, init = 'k-means++',random_state=5000)"
   ]
  },
  {
   "cell_type": "markdown",
   "metadata": {},
   "source": [
    "Remember that an unsupervised algorithm means that the algorithm work without having any knowledge of the true labels, in this case the `CrimeCluster` labels. The algorithm only takes the input features and outputs cluster labels for each data sample. We will only use two features as input to clustering here so that it is easy for us to visualize the clusters on a 2 dimensional scatter plot. Later you will be given a task where you will use all data features for clustering as well. \n",
    "\n",
    "To run kmeans on a data, use the following command. "
   ]
  },
  {
   "cell_type": "code",
   "execution_count": null,
   "metadata": {},
   "outputs": [],
   "source": [
    "k_means.fit(df[['Murder', 'Assault']])"
   ]
  },
  {
   "cell_type": "markdown",
   "metadata": {},
   "source": [
    "Let's look at the output of our kmeans clusters. One way is to look at the cluster centroids. A cluster centroid is the mean of all data samples within a cluster. So we can compare our cluster centroids to the actual cluster means we calculated earlier."
   ]
  },
  {
   "cell_type": "code",
   "execution_count": null,
   "metadata": {},
   "outputs": [],
   "source": [
    "print (k_means.cluster_centers_)\n",
    "print ('\\n')\n",
    "print (df_group[['Murder','Assault']].mean())"
   ]
  },
  {
   "cell_type": "markdown",
   "metadata": {},
   "source": [
    "Looking at the output, we can see that the output of our predicted kmeans cluster centers matches the mean of actual clusters shown above. But the order is slightly different. That's okay.\n",
    "\n",
    "Also, notice the data structure of cluster_centers."
   ]
  },
  {
   "cell_type": "code",
   "execution_count": null,
   "metadata": {},
   "outputs": [],
   "source": [
    " type(k_means.cluster_centers_)"
   ]
  },
  {
   "cell_type": "markdown",
   "metadata": {},
   "source": [
    "Now, what are numpy arrays? Numpy arrays are n-dimenisonal arrays in python , extremely useful for large scale linear algebra and matrix operations.\n",
    "\n",
    "Let's look at out predicted cluster labels output now."
   ]
  },
  {
   "cell_type": "code",
   "execution_count": null,
   "metadata": {},
   "outputs": [],
   "source": [
    "print(k_means.labels_)"
   ]
  },
  {
   "cell_type": "markdown",
   "metadata": {},
   "source": [
    "As you can see our predicted cluster labels are ordered differently, let's do the following to reorder our predicted cluster labels now."
   ]
  },
  {
   "cell_type": "code",
   "execution_count": null,
   "metadata": {},
   "outputs": [],
   "source": [
    "# 0 -> 1, 1 -> 4, 2 -> 3 and 3 -> 2\n",
    "labels_reorder = np.choose(k_means.labels_, [1,4,3,2])\n",
    "print (labels_reorder)"
   ]
  },
  {
   "cell_type": "markdown",
   "metadata": {},
   "source": [
    "Next, we will compare our predicted cluster labels with our ground truth cluster labels by adding our predicted labels as a column in the data frame. Remember that a column of the Dataframe is a Series object and you can create a Series object from a numpy array."
   ]
  },
  {
   "cell_type": "code",
   "execution_count": null,
   "metadata": {},
   "outputs": [],
   "source": [
    "df['PredictedCluster'] = pd.Series(labels_reorder, index=df.index)\n",
    "df.head()"
   ]
  },
  {
   "cell_type": "markdown",
   "metadata": {},
   "source": [
    "To check if we have any rows where the `CrimeCluster` and `PredictedCluster` labels do not match, we can use the selection operators of the dataframe as shown below. "
   ]
  },
  {
   "cell_type": "code",
   "execution_count": null,
   "metadata": {},
   "outputs": [],
   "source": [
    "df[df['PredictedCluster'] != df['CrimeCluster']]"
   ]
  },
  {
   "cell_type": "markdown",
   "metadata": {},
   "source": [
    "The output shows that there are no rows where the two labels mismatch. But you could have a different predicted labels output based on seed initialization, or choice of k, or cluster centers initialization.\n",
    "\n",
    "## Visualizing Clusters\n",
    "Now we will visualize our clusters using scatter plots learnt in the previous recitations."
   ]
  },
  {
   "cell_type": "code",
   "execution_count": null,
   "metadata": {},
   "outputs": [],
   "source": [
    "fig = plt.figure(figsize=(16,6))\n",
    "plt.scatter(df['Assault'],df['Murder'],60,c=k_means.labels_, alpha = 0.6) #The alpha blending value, between 0 (transparent) and 1 (opaque).\n",
    "plt.xlabel('Assault')\n",
    "plt.ylabel('Murder')\n",
    "\n",
    "[plt.text(row.Assault, row.Murder, row.State) for row in df.itertuples()]\n",
    "\n",
    "plt.show()"
   ]
  },
  {
   "cell_type": "markdown",
   "metadata": {},
   "source": [
    "Good to see Pennsylvania has a relatively low crime rate :)\n",
    "\n",
    "## Cluster Analysis\n",
    "The last step is to analyze the impact of different values for `n_clusters` on our clustering output. Good clustering output will have clusters that are well-separated with samples that are close to one another, i.e the sum of distances to cluster centroid is low within a cluster. If samples within a cluster are too spread out and the boundary between the clusters is not well separated, then the clustering output is not good enough. The key to good clustering is finding the right cluster size. Note that the number of distinct clusters within a data is not known to the  algorithm as the algorithm is unsupervised. \n",
    "\n",
    "Let's try kmeans with 3 clusters. "
   ]
  },
  {
   "cell_type": "code",
   "execution_count": null,
   "metadata": {},
   "outputs": [],
   "source": [
    "k_means = cluster.KMeans(n_clusters=3, init='k-means++', random_state=5000)\n",
    "k_means.fit(df[['Murder', 'Assault']])\n",
    "\n",
    "fig = plt.figure(figsize=(16,6))\n",
    "plt.scatter(df['Assault'],df['Murder'],60,c=k_means.labels_, alpha = 0.6)\n",
    "plt.xlabel('Assault')\n",
    "plt.ylabel('Murder')\n",
    "\n",
    "[plt.text(row.Assault, row.Murder, row.State) for row in df.itertuples()]\n",
    "\n",
    "plt.show()"
   ]
  },
  {
   "cell_type": "markdown",
   "metadata": {},
   "source": [
    "How about kmeans with 2 clusters?"
   ]
  },
  {
   "cell_type": "code",
   "execution_count": null,
   "metadata": {},
   "outputs": [],
   "source": [
    "k_means = cluster.KMeans(n_clusters=2, init='k-means++', random_state=5000)\n",
    "k_means.fit(df[['Murder', 'Assault']])\n",
    "\n",
    "fig = plt.figure(figsize=(16,6))\n",
    "plt.scatter(df['Assault'],df['Murder'],60,c=k_means.labels_, alpha = 0.6)\n",
    "plt.xlabel('Assault')\n",
    "plt.ylabel('Murder')\n",
    "\n",
    "[plt.text(row.Assault, row.Murder, row.State) for row in df.itertuples()]\n",
    "\n",
    "plt.show()"
   ]
  },
  {
   "cell_type": "markdown",
   "metadata": {},
   "source": [
    "Looking at the outputs above we can see how the separation of clusters and the spread of clusters is affected as k changes. \n",
    "\n",
    "## Tasks\n",
    "You have to do the following three tasks on the file protein.csv.\n",
    "\n",
    "**Task 1** \n",
    "\n",
    "Run kmeans clustering on http://data.cs1656.org/protein.csv file using only the 'White Meat' and 'Red Meat' columns. Use your choice of value for inital k. Make sure you label all the countries on the scatter plot. "
   ]
  },
  {
   "cell_type": "markdown",
   "metadata": {},
   "source": [
    "**Task 2** \n",
    "\n",
    "Plot and observe the output with at least three different values of k. What do you think is the best choice for k and why?"
   ]
  },
  {
   "cell_type": "markdown",
   "metadata": {},
   "source": [
    "**Task 3** \n",
    "\n",
    "Using the best k found in the previous task, run kmeans using all columns for input features. Observe the difference in output labels and cluster centroids using all columns versus the output using two columns. Looking at the output clusters, do you think it is better or worse to use more input features? "
   ]
  },
  {
   "cell_type": "code",
   "execution_count": null,
   "metadata": {},
   "outputs": [],
   "source": []
  }
 ],
 "metadata": {
  "anaconda-cloud": {},
  "kernelspec": {
   "display_name": "Python 3",
   "language": "python",
   "name": "python3"
  },
  "language_info": {
   "codemirror_mode": {
    "name": "ipython",
    "version": 3
   },
   "file_extension": ".py",
   "mimetype": "text/x-python",
   "name": "python",
   "nbconvert_exporter": "python",
   "pygments_lexer": "ipython3",
   "version": "3.6.4"
  }
 },
 "nbformat": 4,
 "nbformat_minor": 1
}
